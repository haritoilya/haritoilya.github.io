{
  "nbformat": 4,
  "nbformat_minor": 0,
  "metadata": {
    "colab": {
      "provenance": [],
      "include_colab_link": true
    },
    "kernelspec": {
      "name": "python3",
      "display_name": "Python 3"
    },
    "language_info": {
      "name": "python"
    }
  },
  "cells": [
    {
      "cell_type": "markdown",
      "metadata": {
        "id": "view-in-github",
        "colab_type": "text"
      },
      "source": [
        "<a href=\"https://colab.research.google.com/github/haritoilya/haritoilya.github.io/blob/main/Untitled8.ipynb\" target=\"_parent\"><img src=\"https://colab.research.google.com/assets/colab-badge.svg\" alt=\"Open In Colab\"/></a>"
      ]
    },
    {
      "cell_type": "code",
      "source": [
        "import tensorflow as tf\n",
        "import numpy as np\n",
        "from matplotlib import pyplot as plt\n",
        "%matplotlib inline"
      ],
      "metadata": {
        "id": "ifBHTctHcwLT"
      },
      "execution_count": null,
      "outputs": []
    },
    {
      "cell_type": "code",
      "source": [
        "model = tf.keras.Sequential([\n",
        "    tf.keras.layers.Dense(64, input_shape=(30,), activation='LeakyReLU'),\n",
        "    tf.keras.layers. Dense(64, activation='LeakyReLU'),\n",
        "    # tf.keras.layers. Dense(64, activation='LeakyReLU'),\n",
        "    # tf.keras.layers. Dense(64, activation='LeakyReLU'),\n",
        "    # tf.keras.layers. Dense(64, activation='LeakyReLU'),\n",
        "    # tf.keras.layers. Dense(64, activation='LeakyReLU'),\n",
        "    # tf.keras.layers. Dense(64, activation='LeakyReLU'),\n",
        "    # tf.keras.layers. Dense(64, activation='LeakyReLU'),\n",
        "    # tf.keras.layers. Dense(64, activation='LeakyReLU'),\n",
        "    # tf.keras.layers. Dense(64, activation='LeakyReLU'),\n",
        "    # tf.keras.layers. Dropout(0.5),\n",
        "    tf.keras.layers. Dense(2, activation='softmax')\n",
        "    ])\n",
        "# print(model.summary())      # вывод структуры НС в консоль\n",
        "model.compile(optimizer='adam',\n",
        "               # loss='categorical_crossentropy',\n",
        "               loss = 'binary_crossentropy',\n",
        "              metrics=['accuracy'])\n",
        "fit_result = model.fit(x=X_train_coded_scaled, y=y_train, epochs=15, validation_split= 0.1, shuffle=True, batch_size=74)"
      ],
      "metadata": {
        "colab": {
          "base_uri": "https://localhost:8080/"
        },
        "id": "DpAhTpdqdGm6",
        "outputId": "4d7683c4-0a20-400c-c99b-c0f10e1d3ad8"
      },
      "execution_count": null,
      "outputs": [
        {
          "output_type": "stream",
          "name": "stdout",
          "text": [
            "Epoch 1/15\n",
            "17/17 [==============================] - 1s 15ms/step - loss: 0.5387 - accuracy: 0.7949 - val_loss: 0.4324 - val_accuracy: 0.8731\n",
            "Epoch 2/15\n",
            "17/17 [==============================] - 0s 4ms/step - loss: 0.3666 - accuracy: 0.8812 - val_loss: 0.3489 - val_accuracy: 0.8731\n",
            "Epoch 3/15\n",
            "17/17 [==============================] - 0s 4ms/step - loss: 0.3086 - accuracy: 0.8829 - val_loss: 0.3011 - val_accuracy: 0.8806\n",
            "Epoch 4/15\n",
            "17/17 [==============================] - 0s 5ms/step - loss: 0.2827 - accuracy: 0.8937 - val_loss: 0.2761 - val_accuracy: 0.8731\n",
            "Epoch 5/15\n",
            "17/17 [==============================] - 0s 4ms/step - loss: 0.2694 - accuracy: 0.8937 - val_loss: 0.2682 - val_accuracy: 0.8806\n",
            "Epoch 6/15\n",
            "17/17 [==============================] - 0s 5ms/step - loss: 0.2613 - accuracy: 0.9028 - val_loss: 0.2595 - val_accuracy: 0.8955\n",
            "Epoch 7/15\n",
            "17/17 [==============================] - 0s 5ms/step - loss: 0.2543 - accuracy: 0.9070 - val_loss: 0.2531 - val_accuracy: 0.8955\n",
            "Epoch 8/15\n",
            "17/17 [==============================] - 0s 5ms/step - loss: 0.2499 - accuracy: 0.9045 - val_loss: 0.2485 - val_accuracy: 0.8955\n",
            "Epoch 9/15\n",
            "17/17 [==============================] - 0s 5ms/step - loss: 0.2466 - accuracy: 0.9020 - val_loss: 0.2498 - val_accuracy: 0.8955\n",
            "Epoch 10/15\n",
            "17/17 [==============================] - 0s 4ms/step - loss: 0.2414 - accuracy: 0.9053 - val_loss: 0.2421 - val_accuracy: 0.9030\n",
            "Epoch 11/15\n",
            "17/17 [==============================] - 0s 5ms/step - loss: 0.2379 - accuracy: 0.9045 - val_loss: 0.2412 - val_accuracy: 0.8955\n",
            "Epoch 12/15\n",
            "17/17 [==============================] - 0s 6ms/step - loss: 0.2346 - accuracy: 0.9037 - val_loss: 0.2361 - val_accuracy: 0.9179\n",
            "Epoch 13/15\n",
            "17/17 [==============================] - 0s 5ms/step - loss: 0.2311 - accuracy: 0.9078 - val_loss: 0.2377 - val_accuracy: 0.9104\n",
            "Epoch 14/15\n",
            "17/17 [==============================] - 0s 4ms/step - loss: 0.2288 - accuracy: 0.9111 - val_loss: 0.2380 - val_accuracy: 0.9104\n",
            "Epoch 15/15\n",
            "17/17 [==============================] - 0s 4ms/step - loss: 0.2247 - accuracy: 0.9120 - val_loss: 0.2393 - val_accuracy: 0.9030\n"
          ]
        }
      ]
    },
    {
      "cell_type": "code",
      "source": [
        "y_pred_test = model.predict(X_valid_coded_scaled)\n",
        "y_pred = np.round(y_pred_test)\n",
        "from sklearn.metrics import confusion_matrix\n",
        "cm=confusion_matrix(y_valid,y_pred[:,0])\n",
        "\n",
        "print(cm)\n",
        "print(f'Ложная тревога: {cm[0,1]/len(y_valid[y_valid==0])}')\n",
        "print(f'Пропуск цели: {cm[1,0]/len(y_valid[y_valid==1])}')\n",
        "\n",
        "from sklearn.metrics import classification_report #Смотрю на метрики recall, так как она в полной мере помогают оценить ошибку первого и второго рода\n",
        "\n",
        "print(f'Fully connected NN model:\\n {classification_report(y_valid, y_pred[:,0])}')\n",
        "\n",
        "from sklearn.metrics import roc_auc_score\n",
        "from sklearn.metrics import f1_score\n",
        "print(f'AUC: {roc_auc_score(y_valid, y_pred_test[:,0])}')\n",
        "# print(f'AUC: {roc_auc_score(y_valid, y_pred_test[:,1])}')\n",
        "print(f'f1_score: {f1_score(y_valid, y_pred[:,0])}')"
      ],
      "metadata": {
        "colab": {
          "base_uri": "https://localhost:8080/"
        },
        "id": "FiNonwChf4u9",
        "outputId": "8abf82f5-4964-488b-d0e1-bc6e8380c72b"
      },
      "execution_count": null,
      "outputs": [
        {
          "output_type": "stream",
          "name": "stdout",
          "text": [
            "11/11 [==============================] - 0s 2ms/step\n",
            "[[288   7]\n",
            " [ 28  12]]\n",
            "Ложная тревога: 0.023728813559322035\n",
            "Пропуск цели: 0.7\n",
            "Fully connected NN model:\n",
            "               precision    recall  f1-score   support\n",
            "\n",
            "           0       0.91      0.98      0.94       295\n",
            "           1       0.63      0.30      0.41        40\n",
            "\n",
            "    accuracy                           0.90       335\n",
            "   macro avg       0.77      0.64      0.67       335\n",
            "weighted avg       0.88      0.90      0.88       335\n",
            "\n",
            "AUC: 0.8557627118644068\n",
            "f1_score: 0.4067796610169491\n"
          ]
        }
      ]
    },
    {
      "cell_type": "code",
      "source": [
        "history_dict = fit_result.history\n",
        "loss_values = history_dict['loss']\n",
        "val_loss_values = history_dict['val_loss']\n",
        "accuracy = history_dict['accuracy']\n",
        "val_accuracy = history_dict['val_accuracy']\n",
        " \n",
        "epochs = range(1, len(loss_values) + 1)\n",
        "fig, ax = plt.subplots(1, 2, figsize=(14, 6))\n",
        "\n",
        "# Plot the model accuracy vs Epochs\n",
        "\n",
        "ax[0].plot(epochs, accuracy, 'bo', label='Training accuracy')\n",
        "ax[0].plot(epochs, val_accuracy, 'b', label='Validation accuracy')\n",
        "ax[0].set_title('Training & Validation Accuracy', fontsize=16)\n",
        "ax[0].set_xlabel('Epochs', fontsize=16)\n",
        "ax[0].set_ylabel('Accuracy', fontsize=16)\n",
        "ax[0].legend()\n",
        "\n",
        "# Plot the loss vs Epochs\n",
        "\n",
        "ax[1].plot(epochs, loss_values, 'bo', label='Training loss')\n",
        "ax[1].plot(epochs, val_loss_values, 'b', label='Validation loss')\n",
        "ax[1].set_title('Training & Validation Loss', fontsize=16)\n",
        "ax[1].set_xlabel('Epochs', fontsize=16)\n",
        "ax[1].set_ylabel('Loss', fontsize=16)\n",
        "ax[1].legend()\n",
        "plt.show()"
      ],
      "metadata": {
        "colab": {
          "base_uri": "https://localhost:8080/",
          "height": 411
        },
        "id": "cNm8FhXsiieI",
        "outputId": "edfa88db-3b8a-4202-b832-7d7765765ec0"
      },
      "execution_count": null,
      "outputs": [
        {
          "output_type": "display_data",
          "data": {
            "text/plain": [
              "<Figure size 1008x432 with 2 Axes>"
            ],
            "image/png": "[encoded data removed]"
          },
          "metadata": {
            "needs_background": "light"
          }
        }
      ]
    },
    {
      "cell_type": "markdown",
      "source": [],
      "metadata": {
        "id": "SqL3CwkJeAeG"
      }
    }
  ]
}